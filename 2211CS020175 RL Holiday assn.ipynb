{
  "nbformat": 4,
  "nbformat_minor": 0,
  "metadata": {
    "colab": {
      "provenance": []
    },
    "kernelspec": {
      "name": "python3",
      "display_name": "Python 3"
    },
    "language_info": {
      "name": "python"
    }
  },
  "cells": [
    {
      "cell_type": "code",
      "execution_count": 1,
      "metadata": {
        "colab": {
          "base_uri": "https://localhost:8080/"
        },
        "id": "zmneBMO6su4x",
        "outputId": "95426ca8-95ef-4102-ec6a-92cdadf6ca4d"
      },
      "outputs": [
        {
          "output_type": "stream",
          "name": "stdout",
          "text": [
            "PAC Model Accuracy: 7.50%\n"
          ]
        }
      ],
      "source": [
        "#CHESS.PY\n",
        "import random\n",
        "from sklearn.tree import DecisionTreeClassifier\n",
        "from sklearn.model_selection import train_test_split\n",
        "from sklearn.metrics import accuracy_score\n",
        "\n",
        "def generate_chess_data(n_samples=1000):\n",
        "    data = []\n",
        "    labels = []\n",
        "    for _ in range(n_samples):\n",
        "        board_state = [random.randint(0, 1) for _ in range(16)]\n",
        "        optimal_move = random.randint(0, 15)\n",
        "        data.append(board_state)\n",
        "        labels.append(optimal_move)\n",
        "    return data, labels\n",
        "\n",
        "\n",
        "def train_pac_model():\n",
        "    data, labels = generate_chess_data()\n",
        "    X_train, X_test, y_train, y_test = train_test_split(data, labels, test_size=0.2, random_state=42)\n",
        "\n",
        "    model = DecisionTreeClassifier(max_depth=5)\n",
        "    model.fit(X_train, y_train)\n",
        "\n",
        "    predictions = model.predict(X_test)\n",
        "    accuracy = accuracy_score(y_test, predictions)\n",
        "    print(f\"PAC Model Accuracy: {accuracy * 100:.2f}%\")\n",
        "\n",
        "train_pac_model()\n"
      ]
    },
    {
      "cell_type": "code",
      "source": [
        " #UCB.PY\n",
        "import math\n",
        "import random\n",
        "\n",
        "class MultiArmedBandit:\n",
        "    def __init__(self, probabilities):\n",
        "        self.probabilities = probabilities\n",
        "        self.n_actions = len(probabilities)\n",
        "        self.counts = [0] * self.n_actions\n",
        "        self.values = [0.0] * self.n_actions\n",
        "\n",
        "    def select_action(self):\n",
        "        total_counts = sum(self.counts)\n",
        "        if total_counts < self.n_actions:\n",
        "            return total_counts\n",
        "        ucb_values = [\n",
        "            self.values[i] + math.sqrt(2 * math.log(total_counts) / self.counts[i])\n",
        "            for i in range(self.n_actions)\n",
        "        ]\n",
        "        return ucb_values.index(max(ucb_values))\n",
        "\n",
        "    def update(self, action, reward):\n",
        "        self.counts[action] += 1\n",
        "        n = self.counts[action]\n",
        "        self.values[action] += (reward - self.values[action]) / n\n",
        "\n",
        "\n",
        "def simulate_game():\n",
        "    probabilities = [0.1, 0.5, 0.8]\n",
        "    bandit = MultiArmedBandit(probabilities)\n",
        "    total_reward = 0\n",
        "    n_rounds = 100\n",
        "\n",
        "    for _ in range(n_rounds):\n",
        "        action = bandit.select_action()\n",
        "        reward = 1 if random.random() < probabilities[action] else 0\n",
        "        bandit.update(action, reward)\n",
        "        total_reward += reward\n",
        "\n",
        "    print(f\"Total reward after {n_rounds} rounds: {total_reward}\")\n",
        "    print(f\"Estimated values: {bandit.values}\")\n",
        "\n",
        "simulate_game()\n"
      ],
      "metadata": {
        "colab": {
          "base_uri": "https://localhost:8080/"
        },
        "id": "NU1oL96htCQm",
        "outputId": "1703aa41-f052-4556-b558-28a4e5eab091"
      },
      "execution_count": 3,
      "outputs": [
        {
          "output_type": "stream",
          "name": "stdout",
          "text": [
            "Total reward after 100 rounds: 66\n",
            "Estimated values: [0.11111111111111113, 0.5555555555555556, 0.78125]\n"
          ]
        }
      ]
    },
    {
      "cell_type": "code",
      "source": [
        "#SMARTHOME\n",
        "import math\n",
        "import random\n",
        "\n",
        "class SmartHomeUCB:\n",
        "    def __init__(self, efficiency_probabilities):\n",
        "        self.probabilities = efficiency_probabilities\n",
        "        self.n_devices = len(efficiency_probabilities)\n",
        "        self.counts = [0] * self.n_devices\n",
        "        self.values = [0.0] * self.n_devices\n",
        "\n",
        "    def select_device(self):\n",
        "        total_counts = sum(self.counts)\n",
        "        if total_counts < self.n_devices:\n",
        "            return total_counts\n",
        "\n",
        "        ucb_values = [\n",
        "            self.values[i] + math.sqrt(2 * math.log(total_counts) / self.counts[i])\n",
        "            for i in range(self.n_devices)\n",
        "        ]\n",
        "        return ucb_values.index(max(ucb_values))\n",
        "\n",
        "    def update(self, device, reward):\n",
        "        self.counts[device] += 1\n",
        "        n = self.counts[device]\n",
        "        self.values[device] += (reward - self.values[device]) / n\n",
        "\n",
        "def simulate_smart_home():\n",
        "    efficiency_probabilities = [0.7, 0.6, 0.8]\n",
        "    smart_home = SmartHomeUCB(efficiency_probabilities)\n",
        "    total_reward = 0\n",
        "    n_steps = 100\n",
        "\n",
        "    for _ in range(n_steps):\n",
        "        device = smart_home.select_device()\n",
        "        reward = 1 if random.random() < efficiency_probabilities[device] else 0\n",
        "        smart_home.update(device, reward)\n",
        "        total_reward += reward\n",
        "\n",
        "    print(f\"Total efficiency after {n_steps} steps: {total_reward}\")\n",
        "    print(f\"Estimated efficiencies: {smart_home.values}\")\n",
        "\n",
        "simulate_smart_home()\n"
      ],
      "metadata": {
        "colab": {
          "base_uri": "https://localhost:8080/"
        },
        "id": "2jJEF6qKtcPF",
        "outputId": "c12a492b-3e26-4ab9-cc2a-667f044128bf"
      },
      "execution_count": 4,
      "outputs": [
        {
          "output_type": "stream",
          "name": "stdout",
          "text": [
            "Total efficiency after 100 steps: 74\n",
            "Estimated efficiencies: [0.7567567567567569, 0.6250000000000001, 0.794871794871795]\n"
          ]
        }
      ]
    }
  ]
}